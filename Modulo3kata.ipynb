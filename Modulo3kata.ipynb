{
 "cells": [
  {
   "cell_type": "markdown",
   "metadata": {},
   "source": [
    "## Escribir declaraciones if, else, elif"
   ]
  },
  {
   "cell_type": "markdown",
   "metadata": {},
   "source": [
    "Escribir una lógica condicional que imprima una advertencia si un asteroide se acerca a la Tierra demasiado rápido. \n",
    "La velocida del asteroide varía dependiendo de lo cerca que esté del sol, y en cualquier velocidad superior a 25 kilómetros por segundo (km/s) merece una advertencia."
   ]
  },
  {
   "cell_type": "markdown",
   "metadata": {},
   "source": [
    "Un asteroide se acerca, y viaja a una velocidad de 49 km/s"
   ]
  },
  {
   "cell_type": "code",
   "execution_count": null,
   "metadata": {},
   "outputs": [],
   "source": [
    "asteroide = input(\"Ingresa el valor de velocidad del asteroide en km/s\")\n",
    "print(\"La velocidad del asteroide es \" + asteroide + \" km/s\")\n",
    "#Velocidad minima\n",
    "vmin = 25\n",
    "\n",
    "if int(asteroide) < int(vmin):\n",
    "    print(\"No debes preocuparte\")\n",
    "else:\n",
    "    print(\"ADVERTENCIA!!!: El asteroide se acerca demasiado rápido a la Tierra. Tomar acción evasiva\")\n",
    "\n"
   ]
  },
  {
   "cell_type": "code",
   "execution_count": null,
   "metadata": {},
   "outputs": [],
   "source": [
    "asteroide = input(\"Ingresa el valor de velocidad del asteroide en km/s\")\n",
    "#Velocidad minima\n",
    "vmin = 20\n",
    "\n",
    "if int(asteroide) > int(vmin):\n",
    "    print(\"IMPORTANTE!!!: ¡Hay un asteroide que se dirige a la tierra ahora a una velocidad de \" + asteroide + \" km/s Buscalo en el cielo\")\n",
    "elif int(asteroide) == int(vmin):\n",
    "    print(\"IMPORTANTE!!!: ¡Hay un asteroide que se dirige a la tierra ahora a una velocidad de \" + asteroide + \" km/s Buscalo en el cielo\")\n",
    "else:\n",
    "    print(\"No debes preocuparte\")"
   ]
  },
  {
   "cell_type": "markdown",
   "metadata": {},
   "source": [
    "Los asteroides de menos de 25 metros en su dimensión más grande probablemente se quemarán a medida que entren en la atmósfera de la Tierra.\n",
    "\n",
    "Si una pieza de un asteroide que es más grande que 25 metros pero más pequeña que 1000 metros golpeara la Tierra, causaría mucho daño\n",
    "\n",
    "La velocidad del asteroide varía en función de lo cerca que esté del sol, y cualquier velocidad superior a 25 kilómetros por segundo (km/s) merece una advertencia\n",
    "\n",
    "Si un asteroide entra en la atmósfera de la Tierra a una velocidad mayor o igual a 20 km/s, a veces produce un rayo de luz que se puede ver desde la Tierra.\n",
    "\n",
    "El siguiente programa emite una advertencia o información correcta a la gente de la Tierra, según la velocidad y el tamaño de un asteroide."
   ]
  },
  {
   "cell_type": "code",
   "execution_count": 40,
   "metadata": {},
   "outputs": [
    {
     "name": "stdout",
     "output_type": "stream",
     "text": [
      "IMPORTANTE!!!: ¡Hay un asteroide que se dirige a la tierra ahora a una velocidad de 25 km/s Busca en el cielo una luz mágica\n"
     ]
    }
   ],
   "source": [
    "velocidad_a = input(\"Introduce la velocidad del asteroide en km/s\")\n",
    "tamano_a = input(\"Introduce el diametro o tamaño del asteroide en m\")\n",
    "\n",
    "velytam_min = 25\n",
    "luz = 20\n",
    "\n",
    "if int(velocidad_a) > int(velytam_min) and int(tamano_a) > int(velytam_min):\n",
    "    print(\"IMPORTANTE!!!: ¡Hay un asteroide que se dirige a la tierra ahora a una velocidad de \" + velocidad_a + \" km/s\")\n",
    "elif int(velocidad_a) >= int(luz):\n",
    "    print(\"IMPORTANTE!!!: ¡Hay un asteroide que se dirige a la tierra ahora a una velocidad de \" + velocidad_a + \" km/s Busca en el cielo una luz mágica\")\n",
    "elif int(tamano_a) < int(velytam_min):\n",
    "    print(\"No debes preocuparte\")\n",
    "else:\n",
    "    print(\"Puedes continuar con tus actividades\")"
   ]
  }
 ],
 "metadata": {
  "interpreter": {
   "hash": "4c999f7ef9a0d32339f4a166787ad2e8ed9510803f1ef2546e1d15bd4e287f9c"
  },
  "kernelspec": {
   "display_name": "Python 3.10.2 64-bit",
   "language": "python",
   "name": "python3"
  },
  "language_info": {
   "codemirror_mode": {
    "name": "ipython",
    "version": 3
   },
   "file_extension": ".py",
   "mimetype": "text/x-python",
   "name": "python",
   "nbconvert_exporter": "python",
   "pygments_lexer": "ipython3",
   "version": "3.10.2"
  },
  "orig_nbformat": 4
 },
 "nbformat": 4,
 "nbformat_minor": 2
}
